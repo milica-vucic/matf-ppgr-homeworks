{
 "cells": [
  {
   "cell_type": "code",
   "execution_count": 1,
   "id": "d2894146",
   "metadata": {},
   "outputs": [],
   "source": [
    "import numpy as np\n",
    "import matplotlib.pyplot as plt"
   ]
  },
  {
   "cell_type": "code",
   "execution_count": 2,
   "id": "a67c761f",
   "metadata": {},
   "outputs": [],
   "source": [
    "x1 = np.array([762, 1390, 1])\n",
    "y1 = np.array([362, 1114, 1])\n",
    "\n",
    "x2 = np.array([754, 1079, 1])\n",
    "y2 = np.array([595, 925, 1])\n",
    "\n",
    "x3 = np.array([463, 1249, 1])\n",
    "y3 = np.array([277, 871, 1])\n",
    "\n",
    "x4 = np.array([654, 1092, 1])\n",
    "y4 = np.array([414, 792, 1])\n",
    "\n",
    "x5 = np.array([1261, 1179, 1])\n",
    "y5 = np.array([867, 1267, 1])\n",
    "\n",
    "x6 = np.array([1438, 686, 1])\n",
    "y6 = np.array([1404, 1059, 1])\n",
    "\n",
    "x8 = np.array([442, 916, 1])\n",
    "y8 = np.array([506, 667, 1])\n",
    "\n",
    "x9 = np.array([1305, 840, 1])\n",
    "y9 = np.array([898, 839, 1])\n",
    "\n",
    "x10 = np.array([1504, 296, 1])\n",
    "y10 = np.array([1502, 624, 1])\n",
    "\n",
    "x11 = np.array([637, 61, 1])\n",
    "y11 = np.array([1051, 74, 1])\n",
    "\n",
    "x12 = np.array([381, 558, 1])\n",
    "y12 = np.array([501, 233, 1])\n",
    "\n",
    "x13 = np.array([995, 607, 1])\n",
    "y13 = np.array([859, 541, 1])\n",
    "\n",
    "x14 = np.array([1220, 549, 1])\n",
    "y14 = np.array([1071, 620, 1])\n",
    "\n",
    "y15 = np.array([1161, 486, 1])\n",
    "\n",
    "x16 = np.array([917, 425, 1])\n",
    "\n",
    "x17 = np.array([1000, 466, 1])\n",
    "y17 = np.array([874, 373, 1])\n",
    "\n",
    "x18 = np.array([1234, 405, 1])\n",
    "y18 = np.array([1096, 456, 1])\n",
    "\n",
    "x19 = np.array([1147, 223, 1])\n",
    "y19 = np.array([1185, 311, 1])\n",
    "\n",
    "x20 = np.array([927, 281, 1])\n",
    "y20 = np.array([973, 235, 1])"
   ]
  },
  {
   "cell_type": "code",
   "execution_count": 3,
   "id": "3560b2eb",
   "metadata": {},
   "outputs": [],
   "source": [
    "xs = [x1, x2, x3, x4, x9, x10, x11, x12]\n",
    "ys = [y1, y2, y3, y4, y9, y10, y11, y12]"
   ]
  },
  {
   "cell_type": "code",
   "execution_count": 4,
   "id": "28a82cad",
   "metadata": {},
   "outputs": [],
   "source": [
    "def invisible_point(A, B, C, D, X1, X2):\n",
    "    \n",
    "    def cross(a, b):\n",
    "        c1 = int(a[1]) * int(b[2]) - int(a[2]) * int(b[1])\n",
    "        c2 = int(a[2]) * int(b[0]) - int(a[0]) * int(b[2]) \n",
    "        c3 = int(a[0]) * int(b[1]) - int(a[1]) * int(b[0])\n",
    "\n",
    "        return [c1,c2,c3]\n",
    "\n",
    "    cross_product = np.array(\n",
    "        cross(cross(cross(cross(A[0], A[1]), cross(B[0], B[1])), X1),\n",
    "        cross(cross(cross(C[0], C[1]), cross(D[0], D[1])), X2)\n",
    "    ))\n",
    "    \n",
    "    cross_product = cross_product / cross_product[-1]\n",
    "\n",
    "    return cross_product"
   ]
  },
  {
   "cell_type": "markdown",
   "id": "0e42f6b3",
   "metadata": {},
   "source": [
    "## Calculating fundamental matrix"
   ]
  },
  {
   "cell_type": "code",
   "execution_count": 5,
   "id": "980dbfd3",
   "metadata": {},
   "outputs": [
    {
     "name": "stdout",
     "output_type": "stream",
     "text": [
      "[[ 275844  503180     362  848868 1548460    1114     762    1390       1]\n",
      " [ 448630  642005     595  697450  998075     925     754    1079       1]\n",
      " [ 128251  345973     277  403273 1087879     871     463    1249       1]\n",
      " [ 270756  452088     414  517968  864864     792     654    1092       1]\n",
      " [1171890  754320     898 1094895  704760     839    1305     840       1]\n",
      " [2259008  444592    1502  938496  184704     624    1504     296       1]\n",
      " [ 669487   64111    1051   47138    4514      74     637      61       1]\n",
      " [ 190881  279558     501   88773  130014     233     381     558       1]]\n"
     ]
    }
   ],
   "source": [
    "A = []\n",
    "for i in range(len(xs)):\n",
    "    B = np.array([xs[i][0] * ys[i][0] , xs[i][1] * ys[i][0] , xs[i][2] * ys[i][0], \n",
    "                  xs[i][0] * ys[i][1] , xs[i][1] * ys[i][1] , xs[i][2] * ys[i][1], \n",
    "                  xs[i][0] * ys[i][2] , xs[i][1] * ys[i][2] , xs[i][2] * ys[i][2]])\n",
    "    \n",
    "    if len(A) == 0:\n",
    "        A = B   \n",
    "    else:\n",
    "        A = np.vstack((A, B))\n",
    "\n",
    "print(A)"
   ]
  },
  {
   "cell_type": "code",
   "execution_count": 6,
   "id": "7e92985f",
   "metadata": {},
   "outputs": [
    {
     "name": "stdout",
     "output_type": "stream",
     "text": [
      "Fundamental matrix:\n",
      "[[ 2.03034876e-07  2.47944794e-07 -1.22656699e-03]\n",
      " [-3.95183317e-07  1.91433528e-07  1.04165471e-03]\n",
      " [ 2.64305367e-04 -1.48166896e-03  9.99997573e-01]]\n"
     ]
    }
   ],
   "source": [
    "U, S, V = np.linalg.svd(A)\n",
    "F = V[-1].reshape((3, 3))\n",
    "print(f'Fundamental matrix:\\n{F}')"
   ]
  },
  {
   "cell_type": "markdown",
   "id": "70a7cb58",
   "metadata": {},
   "source": [
    "## Test"
   ]
  },
  {
   "cell_type": "code",
   "execution_count": 7,
   "id": "135013f2",
   "metadata": {},
   "outputs": [
    {
     "data": {
      "text/plain": [
       "array([ 4.44089210e-16,  4.81836793e-14,  1.11022302e-13,  6.86117829e-14,\n",
       "       -3.38618023e-14, -2.12607709e-13, -8.37108161e-14,  2.58681965e-14])"
      ]
     },
     "execution_count": 7,
     "metadata": {},
     "output_type": "execute_result"
    }
   ],
   "source": [
    "lst = zip(xs, ys)\n",
    "np.array(list(map(lambda X: np.transpose(X[1]).dot(F).dot(X[0]), lst)))"
   ]
  },
  {
   "cell_type": "code",
   "execution_count": 8,
   "id": "decf18d7",
   "metadata": {},
   "outputs": [
    {
     "data": {
      "text/plain": [
       "-1.376569431179585e-13"
      ]
     },
     "execution_count": 8,
     "metadata": {},
     "output_type": "execute_result"
    }
   ],
   "source": [
    "np.linalg.det(F)"
   ]
  },
  {
   "cell_type": "markdown",
   "id": "e0a3646e",
   "metadata": {},
   "source": [
    "## Calculating epipoles"
   ]
  },
  {
   "cell_type": "code",
   "execution_count": 9,
   "id": "8836aef1",
   "metadata": {},
   "outputs": [
    {
     "name": "stdout",
     "output_type": "stream",
     "text": [
      "e1 = [3.63720167e+03 1.32372992e+03 1.00000000e+00]\n"
     ]
    }
   ],
   "source": [
    "U, D, V = np.linalg.svd(F)\n",
    "e1 = V[:][-1]\n",
    "e1 = e1 / e1[2]\n",
    "print(f'e1 = {e1}')"
   ]
  },
  {
   "cell_type": "code",
   "execution_count": 10,
   "id": "ffde8678",
   "metadata": {},
   "outputs": [
    {
     "name": "stdout",
     "output_type": "stream",
     "text": [
      "e2 = [3.33972004e+03 2.97257115e+03 1.00000000e+00]\n"
     ]
    }
   ],
   "source": [
    "e2 = U[:, -1]\n",
    "e2 = e2 / e2[2]\n",
    "print(f'e2 = {e2}')"
   ]
  },
  {
   "cell_type": "markdown",
   "id": "18410eb7",
   "metadata": {},
   "source": [
    "## Correct precision of fundamental matrix"
   ]
  },
  {
   "cell_type": "code",
   "execution_count": 11,
   "id": "2c61715b",
   "metadata": {},
   "outputs": [],
   "source": [
    "D1 = np.diag([1, 1, 0]) * D"
   ]
  },
  {
   "cell_type": "code",
   "execution_count": 12,
   "id": "b398f614",
   "metadata": {},
   "outputs": [
    {
     "name": "stdout",
     "output_type": "stream",
     "text": [
      "Corrected values:\n",
      " [[ 2.41849567e-07  2.62071085e-07 -1.22656698e-03]\n",
      " [-3.60635681e-07  2.04006859e-07  1.04165472e-03]\n",
      " [ 2.64305378e-04 -1.48166896e-03  9.99997573e-01]]\n"
     ]
    }
   ],
   "source": [
    "F1 = U.dot(D1).dot(V)\n",
    "print(f'Corrected values:\\n {F1}')"
   ]
  },
  {
   "cell_type": "code",
   "execution_count": 13,
   "id": "9d6a8818",
   "metadata": {},
   "outputs": [
    {
     "name": "stdout",
     "output_type": "stream",
     "text": [
      "det(F1) = 1.041750418322162e-28\n"
     ]
    }
   ],
   "source": [
    "print(f'det(F1) = {np.linalg.det(F1)}')"
   ]
  },
  {
   "cell_type": "markdown",
   "id": "d2c99ba0",
   "metadata": {},
   "source": [
    "## Reconstruction"
   ]
  },
  {
   "cell_type": "code",
   "execution_count": 14,
   "id": "46b88e9e",
   "metadata": {},
   "outputs": [
    {
     "name": "stdout",
     "output_type": "stream",
     "text": [
      "First camera matrix:\n",
      "[[1 0 0 0]\n",
      " [0 1 0 0]\n",
      " [0 0 1 0]]\n"
     ]
    }
   ],
   "source": [
    "T1 = np.array([\n",
    "    [1, 0, 0, 0],\n",
    "    [0, 1, 0, 0],\n",
    "    [0, 0, 1, 0]\n",
    "])\n",
    "print(f'First camera matrix:\\n{T1}')"
   ]
  },
  {
   "cell_type": "code",
   "execution_count": 15,
   "id": "3db5db7e",
   "metadata": {},
   "outputs": [
    {
     "name": "stdout",
     "output_type": "stream",
     "text": [
      "Second camera matrix:\n",
      "[[ 7.85666904e-01 -4.40436661e+00  2.97256290e+03  3.33972004e+03]\n",
      " [-8.82705727e-01  4.94835978e+00 -3.33971316e+03  2.97257115e+03]\n",
      " [-1.92333726e-03 -9.76991521e-05  7.12489277e+00  1.00000000e+00]]\n"
     ]
    }
   ],
   "source": [
    "E2 = np.array([\n",
    "    [0, -e2[2], e2[1]],\n",
    "    [e2[2], 0, -e2[0]],\n",
    "    [-e2[1], e2[0], 0]\n",
    "])\n",
    "\n",
    "T2 = np.transpose(np.vstack((np.transpose(E2.dot(F1)), e2)))\n",
    "print(f'Second camera matrix:\\n{T2}')"
   ]
  },
  {
   "cell_type": "code",
   "execution_count": 16,
   "id": "ff679caa",
   "metadata": {},
   "outputs": [],
   "source": [
    "def equations(X, Y):\n",
    "    return np.array([X[1]*T1[2] - X[2]*T1[1],\n",
    "                    -X[0]*T1[2] + X[2]*T1[0],\n",
    "                    Y[1]*T2[2] - Y[2]*T2[1],\n",
    "                    -Y[0]*T2[2] + Y[2]*T2[0]])"
   ]
  },
  {
   "cell_type": "code",
   "execution_count": 17,
   "id": "77149931",
   "metadata": {},
   "outputs": [],
   "source": [
    "x7 = invisible_point((x11, x12), (x9, x10), (x10, x11), (x9, x12), x8, x6)\n",
    "y7 = invisible_point((y11, y12), (y9, y10), (y10, y11), (y9, y12), y8, y6)\n",
    "x15 = invisible_point((x17, x20), (x18, x19), (x17, x18), (x19, x20), x14, x16)\n",
    "y16 = invisible_point((x19, x20), (x17, x18), (x17, x20), (x18, x19), x15, x13)"
   ]
  },
  {
   "cell_type": "code",
   "execution_count": 18,
   "id": "dfcea32e",
   "metadata": {},
   "outputs": [],
   "source": [
    "image1 = [x1, x2, x3, x4, x5, x6, x7, x8, x9, x10, x11, x12, x13, x14, x15, x16, x17, x18, x19, x20]\n",
    "image2 = [y1, y2, y3, y4, y5, y6, y7, y8, y9, y10, y11, y12, y13, y14, y15, y16, y17, y18, y19, y20]"
   ]
  },
  {
   "cell_type": "code",
   "execution_count": 19,
   "id": "2cc45715",
   "metadata": {},
   "outputs": [],
   "source": [
    "def coords(L, R):\n",
    "    U, D, V = np.linalg.svd(equations(L, R))\n",
    "    P = V[-1]\n",
    "    P = P / P[3]\n",
    "    return P[:-1]"
   ]
  },
  {
   "cell_type": "code",
   "execution_count": 20,
   "id": "2ae5d9a1",
   "metadata": {},
   "outputs": [],
   "source": [
    "reconstructed = []\n",
    "for i in range(len(image1)):\n",
    "    reconstructed.append(coords(image1[i], image2[i]))"
   ]
  },
  {
   "cell_type": "code",
   "execution_count": 21,
   "id": "0e0f7700",
   "metadata": {},
   "outputs": [
    {
     "data": {
      "text/plain": [
       "[array([4.75249969e+02, 8.98049822e+02, 6.21032199e-01]),\n",
       " array([4.34814189e+02, 6.55406511e+02, 5.78375189e-01]),\n",
       " array([3.55181850e+02, 9.81364604e+02, 7.67429908e-01]),\n",
       " array([4.92496962e+02, 8.52361957e+02, 7.55132031e-01]),\n",
       " array([5.53311289e+02, 5.60921117e+02, 4.37932547e-01]),\n",
       " array([5.10668939e+02, 2.78054932e+02, 3.59296712e-01]),\n",
       " array([356.63475016, 247.68941085,   0.53878982]),\n",
       " array([315.65963167, 673.53345609,   0.71804996]),\n",
       " array([7.52001869e+02, 5.41286652e+02, 5.80839270e-01]),\n",
       " array([6.56140093e+02, 1.84115586e+02, 4.47488954e-01]),\n",
       " array([464.4643647 ,  60.04112219,   0.73796254]),\n",
       " array([444.63407621, 668.99938569,   1.17473889]),\n",
       " array([657.95980349, 456.0258081 ,   0.67014744]),\n",
       " array([6.79184030e+02, 3.63117652e+02, 5.65563286e-01]),\n",
       " array([6.22217625e+02, 2.54823608e+02, 5.58168395e-01]),\n",
       " array([604.60220849, 352.52238128,   0.67308587]),\n",
       " array([750.9781113 , 422.00480271,   0.76462052]),\n",
       " array([7.58590524e+02, 3.24275223e+02, 6.28081744e-01]),\n",
       " array([6.99183105e+02, 2.02316038e+02, 6.25652764e-01]),\n",
       " array([688.67512326, 274.09813796,   0.75975522])]"
      ]
     },
     "execution_count": 21,
     "metadata": {},
     "output_type": "execute_result"
    }
   ],
   "source": [
    "reconstructed"
   ]
  },
  {
   "cell_type": "code",
   "execution_count": 22,
   "id": "8083ea22",
   "metadata": {},
   "outputs": [],
   "source": [
    "tmp = np.eye(3)\n",
    "tmp[2][2] = 400\n",
    "\n",
    "reconstructed400 = np.zeros((20, 3))\n",
    "for i in range(len(reconstructed)):\n",
    "    reconstructed400[i] = tmp.dot(reconstructed[i])"
   ]
  },
  {
   "cell_type": "code",
   "execution_count": 23,
   "id": "d9ec56dd",
   "metadata": {},
   "outputs": [],
   "source": [
    "small_edges = [(1, 2), (2, 3), (3, 1), (1, 4), (2, 4), (3, 4)]\n",
    "middle_edges = [(13, 14),(14, 15),(15, 16),(16, 13),(17, 18),(18, 19),\n",
    "                (19, 20), (20, 17), (13, 17), (14, 18), (15, 19), (16, 20)]\n",
    "big_edges = [(5, 6), (6, 7), (7, 8), (8, 5), (9, 10), (10, 11),\n",
    "             (11, 12), (12, 9), (5, 9), (6, 10), (7, 11), (8, 12)]"
   ]
  },
  {
   "cell_type": "code",
   "execution_count": 24,
   "id": "cb6a5cbd",
   "metadata": {},
   "outputs": [
    {
     "data": {
      "image/png": "[encoded data removed]",
      "text/plain": [
       "<Figure size 640x480 with 1 Axes>"
      ]
     },
     "metadata": {},
     "output_type": "display_data"
    }
   ],
   "source": [
    "fig = plt.figure()\n",
    "ax = plt.axes(projection='3d')\n",
    "\n",
    "for (i, j) in small_edges:\n",
    "    ax.plot(\n",
    "        [reconstructed400[i - 1][0], reconstructed400[j - 1][0]],\n",
    "        [reconstructed400[i - 1][1], reconstructed400[j - 1][1]],\n",
    "        [reconstructed400[i - 1][2], reconstructed400[j - 1][2]],\n",
    "        color= 'green'\n",
    "    )\n",
    "\n",
    "for (i, j) in middle_edges:\n",
    "    ax.plot(\n",
    "        [reconstructed400[i - 1][0], reconstructed400[j - 1][0]],\n",
    "        [reconstructed400[i - 1][1], reconstructed400[j - 1][1]],\n",
    "        [reconstructed400[i - 1][2], reconstructed400[j - 1][2]],\n",
    "        color= 'blue'\n",
    "    )\n",
    "    \n",
    "for (i, j) in big_edges:\n",
    "    ax.plot(\n",
    "        [reconstructed400[i - 1][0], reconstructed400[j - 1][0]],\n",
    "        [reconstructed400[i - 1][1], reconstructed400[j - 1][1]],\n",
    "        [reconstructed400[i - 1][2], reconstructed400[j - 1][2]],\n",
    "        color= 'red'\n",
    "    )\n",
    "    \n",
    "ax.set_xlabel('$X$')\n",
    "ax.set_ylabel('$Y$')\n",
    "ax.set_zlabel('$Z$')\n",
    "plt.title('3D reconstruction of given input points')\n",
    "plt.show()"
   ]
  },
  {
   "cell_type": "code",
   "execution_count": null,
   "id": "3e29a47c",
   "metadata": {},
   "outputs": [],
   "source": []
  }
 ],
 "metadata": {
  "kernelspec": {
   "display_name": "Python 3 (ipykernel)",
   "language": "python",
   "name": "python3"
  },
  "language_info": {
   "codemirror_mode": {
    "name": "ipython",
    "version": 3
   },
   "file_extension": ".py",
   "mimetype": "text/x-python",
   "name": "python",
   "nbconvert_exporter": "python",
   "pygments_lexer": "ipython3",
   "version": "3.10.6"
  }
 },
 "nbformat": 4,
 "nbformat_minor": 5
}
