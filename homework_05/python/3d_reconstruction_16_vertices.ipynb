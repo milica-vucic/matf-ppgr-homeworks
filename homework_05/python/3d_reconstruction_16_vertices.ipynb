{
 "cells": [
  {
   "cell_type": "code",
   "execution_count": 1,
   "id": "9ddce1bf",
   "metadata": {},
   "outputs": [],
   "source": [
    "import numpy as np\n",
    "import matplotlib.pyplot as plt\n",
    "\n",
    "from mpl_toolkits.mplot3d import Axes3D"
   ]
  },
  {
   "cell_type": "code",
   "execution_count": 2,
   "id": "d08f9c87",
   "metadata": {},
   "outputs": [],
   "source": [
    "x1 = np.array([958, 38, 1])\n",
    "y1 = np.array([933, 33, 1])\n",
    "\n",
    "x2 = np.array([1117, 111, 1])\n",
    "y2 = np.array([1027, 132, 1])\n",
    "\n",
    "x3 = np.array([874, 285, 1])\n",
    "y3 = np.array([692, 223, 1])\n",
    "\n",
    "x4 = np.array([707, 218, 1])\n",
    "y4 = np.array([595, 123, 1])\n",
    "\n",
    "x6 = np.array([1094, 536, 1])\n",
    "y6 = np.array([980, 535, 1])\n",
    "\n",
    "x7 = np.array([862, 729, 1])\n",
    "y7 = np.array([652, 638, 1])\n",
    "\n",
    "x8 = np.array([710, 648, 1])\n",
    "y8 = np.array([567, 532, 1])\n",
    "\n",
    "x9 = np.array([292, 569, 1])\n",
    "y9 = np.array([272, 360, 1])\n",
    "\n",
    "x10 = np.array([770, 969, 1])\n",
    "y10 = np.array([432, 814, 1])\n",
    "\n",
    "x11 = np.array([770, 1465, 1])\n",
    "y11 = np.array([414, 1284, 1])\n",
    "\n",
    "x12 = np.array([317, 1057, 1])\n",
    "y12 = np.array([258, 818, 1])\n",
    "\n",
    "y13 = np.array([1077, 269, 1])\n",
    "\n",
    "x14 = np.array([1487, 598, 1])\n",
    "y14 = np.array([1303, 700, 1])\n",
    "\n",
    "x15 = np.array([1462, 1079, 1])\n",
    "y15 = np.array([1257, 1165, 1])"
   ]
  },
  {
   "cell_type": "code",
   "execution_count": 3,
   "id": "c38841b9",
   "metadata": {},
   "outputs": [],
   "source": [
    "xs = [x1, x2, x3, x4, x9, x10, x11, x12]\n",
    "ys = [y1, y2, y3, y4, y9, y10, y11, y12]"
   ]
  },
  {
   "cell_type": "code",
   "execution_count": 4,
   "id": "f55f475e",
   "metadata": {},
   "outputs": [],
   "source": [
    "def invisible_point(A, B, C, D, X1, X2):\n",
    "    \n",
    "    def cross(a, b):\n",
    "        c1 = int(a[1]) * int(b[2]) - int(a[2]) * int(b[1])\n",
    "        c2 = int(a[2]) * int(b[0]) - int(a[0]) * int(b[2]) \n",
    "        c3 = int(a[0]) * int(b[1]) - int(a[1]) * int(b[0])\n",
    "\n",
    "        return [c1,c2,c3]\n",
    "\n",
    "    cross_product = np.array(\n",
    "        cross(cross(cross(cross(A[0], A[1]), cross(B[0], B[1])), X1),\n",
    "        cross(cross(cross(C[0], C[1]), cross(D[0], D[1])), X2)\n",
    "    ))\n",
    "    \n",
    "    cross_product = cross_product / cross_product[-1]\n",
    "\n",
    "    return cross_product"
   ]
  },
  {
   "cell_type": "markdown",
   "id": "bbffbeec",
   "metadata": {},
   "source": [
    "## Calculating fundamental matrix"
   ]
  },
  {
   "cell_type": "code",
   "execution_count": 5,
   "id": "9facf78c",
   "metadata": {},
   "outputs": [
    {
     "name": "stdout",
     "output_type": "stream",
     "text": [
      "[[ 893814   35454     933   31614    1254      33     958      38       1]\n",
      " [1147159  113997    1027  147444   14652     132    1117     111       1]\n",
      " [ 604808  197220     692  194902   63555     223     874     285       1]\n",
      " [ 420665  129710     595   86961   26814     123     707     218       1]\n",
      " [  79424  154768     272  105120  204840     360     292     569       1]\n",
      " [ 332640  418608     432  626780  788766     814     770     969       1]\n",
      " [ 318780  606510     414  988680 1881060    1284     770    1465       1]\n",
      " [  81786  272706     258  259306  864626     818     317    1057       1]]\n"
     ]
    }
   ],
   "source": [
    "A = []\n",
    "for i in range(len(xs)):\n",
    "    B = np.array([xs[i][0] * ys[i][0] , xs[i][1] * ys[i][0] , xs[i][2] * ys[i][0], \n",
    "                  xs[i][0] * ys[i][1] , xs[i][1] * ys[i][1] , xs[i][2] * ys[i][1], \n",
    "                  xs[i][0] * ys[i][2] , xs[i][1] * ys[i][2] , xs[i][2] * ys[i][2]])\n",
    "    \n",
    "    if len(A) == 0:\n",
    "        A = B   \n",
    "    else:\n",
    "        A = np.vstack((A, B))\n",
    "\n",
    "print(A)"
   ]
  },
  {
   "cell_type": "code",
   "execution_count": 6,
   "id": "8a6906b1",
   "metadata": {},
   "outputs": [
    {
     "name": "stdout",
     "output_type": "stream",
     "text": [
      "Fundamental matrix:\n",
      "[[ 4.54020258e-07 -7.42529108e-07 -1.86611244e-03]\n",
      " [-1.99099442e-07  2.11775653e-07  2.77795603e-03]\n",
      " [ 3.96239362e-04 -2.72717967e-03  9.99990603e-01]]\n"
     ]
    }
   ],
   "source": [
    "U, S, V = np.linalg.svd(A)\n",
    "F = V[-1].reshape((3, 3))\n",
    "print(f'Fundamental matrix:\\n{F}')"
   ]
  },
  {
   "cell_type": "markdown",
   "id": "f108c109",
   "metadata": {},
   "source": [
    "## Test"
   ]
  },
  {
   "cell_type": "markdown",
   "id": "24fb3344",
   "metadata": {},
   "source": [
    "Brojevi koji se dobiju su izuzetno bliski nuli - postoji numericka greska"
   ]
  },
  {
   "cell_type": "code",
   "execution_count": 7,
   "id": "2ca6e69c",
   "metadata": {},
   "outputs": [
    {
     "data": {
      "text/plain": [
       "array([ 2.22044605e-16,  2.09832152e-14,  1.02140518e-14,  3.24740235e-15,\n",
       "        1.37667655e-14, -1.55431223e-14, -5.50670620e-14, -4.61852778e-14])"
      ]
     },
     "execution_count": 7,
     "metadata": {},
     "output_type": "execute_result"
    }
   ],
   "source": [
    "lst = zip(xs, ys)\n",
    "np.array(list(map(lambda X: np.transpose(X[1]).dot(F).dot(X[0]), lst)))"
   ]
  },
  {
   "cell_type": "markdown",
   "id": "446e68d3",
   "metadata": {},
   "source": [
    "## Calculating epipoles"
   ]
  },
  {
   "cell_type": "code",
   "execution_count": 8,
   "id": "e28e5018",
   "metadata": {},
   "outputs": [
    {
     "name": "stdout",
     "output_type": "stream",
     "text": [
      "e1 = [1.04078394e+04 1.87885919e+03 1.00000000e+00]\n"
     ]
    }
   ],
   "source": [
    "U, D, V = np.linalg.svd(F)\n",
    "e1 = V[:][-1]\n",
    "e1 = e1 / e1[2]\n",
    "print(f'e1 = {e1}')"
   ]
  },
  {
   "cell_type": "code",
   "execution_count": 9,
   "id": "9e0f786c",
   "metadata": {},
   "outputs": [
    {
     "name": "stdout",
     "output_type": "stream",
     "text": [
      "e2 = [-4.38831707e+03 -3.30785789e+03  1.00000000e+00]\n"
     ]
    }
   ],
   "source": [
    "e2 = U[:, -1]\n",
    "e2 = e2 / e2[2]\n",
    "print(f'e2 = {e2}')"
   ]
  },
  {
   "cell_type": "markdown",
   "id": "78c783f9",
   "metadata": {},
   "source": [
    "## Correct precision of fundamental matrix"
   ]
  },
  {
   "cell_type": "code",
   "execution_count": 10,
   "id": "c232c9b8",
   "metadata": {},
   "outputs": [],
   "source": [
    "D1 = np.diag([1, 1, 0]) * D"
   ]
  },
  {
   "cell_type": "code",
   "execution_count": 11,
   "id": "e4aee16a",
   "metadata": {},
   "outputs": [
    {
     "name": "stdout",
     "output_type": "stream",
     "text": [
      "Corrected values:\n",
      " [[ 3.17782475e-07 -7.67123224e-07 -1.86611245e-03]\n",
      " [-3.01793759e-07  1.93236919e-07  2.77795602e-03]\n",
      " [ 3.96239393e-04 -2.72717967e-03  9.99990603e-01]]\n"
     ]
    }
   ],
   "source": [
    "F1 = U.dot(D1).dot(V)\n",
    "print(f'Corrected values:\\n {F1}')"
   ]
  },
  {
   "cell_type": "code",
   "execution_count": 12,
   "id": "bcde601e",
   "metadata": {},
   "outputs": [
    {
     "name": "stdout",
     "output_type": "stream",
     "text": [
      "det(F1) = 6.474662161633092e-28\n"
     ]
    }
   ],
   "source": [
    "print(f'det(F1) = {np.linalg.det(F1)}')"
   ]
  },
  {
   "cell_type": "markdown",
   "id": "ff7c2770",
   "metadata": {},
   "source": [
    "## Reconstruction"
   ]
  },
  {
   "cell_type": "code",
   "execution_count": 13,
   "id": "01aa0f56",
   "metadata": {},
   "outputs": [
    {
     "name": "stdout",
     "output_type": "stream",
     "text": [
      "First camera matrix:\n",
      "[[1 0 0 0]\n",
      " [0 1 0 0]\n",
      " [0 0 1 0]]\n"
     ]
    }
   ],
   "source": [
    "T1 = np.array([\n",
    "    [1, 0, 0, 0],\n",
    "    [0, 1, 0, 0],\n",
    "    [0, 0, 1, 0]\n",
    "])\n",
    "print(f'First camera matrix:\\n{T1}')"
   ]
  },
  {
   "cell_type": "code",
   "execution_count": 14,
   "id": "b576c667",
   "metadata": {},
   "outputs": [
    {
     "name": "stdout",
     "output_type": "stream",
     "text": [
      "Second camera matrix:\n",
      "[[-1.31070330e+00  9.02112258e+00 -3.30782958e+03 -4.38831707e+03]\n",
      " [ 1.73882441e+00 -1.19677298e+01  4.38827396e+03 -3.30785789e+03]\n",
      " [ 2.37554597e-03 -3.38551948e-03 -1.83633866e+01  1.00000000e+00]]\n"
     ]
    }
   ],
   "source": [
    "E2 = np.array([\n",
    "    [0, -e2[2], e2[1]],\n",
    "    [e2[2], 0, -e2[0]],\n",
    "    [-e2[1], e2[0], 0]\n",
    "])\n",
    "\n",
    "T2 = np.transpose(np.vstack((np.transpose(E2.dot(F1)), e2)))\n",
    "print(f'Second camera matrix:\\n{T2}')"
   ]
  },
  {
   "cell_type": "code",
   "execution_count": 15,
   "id": "a01c7a18",
   "metadata": {},
   "outputs": [],
   "source": [
    "def equations(X, Y):\n",
    "    return np.array([X[1]*T1[2] - X[2]*T1[1],\n",
    "                    -X[0]*T1[2] + X[2]*T1[0],\n",
    "                    Y[1]*T2[2] - Y[2]*T2[1],\n",
    "                    -Y[0]*T2[2] + Y[2]*T2[0]])"
   ]
  },
  {
   "cell_type": "code",
   "execution_count": 16,
   "id": "0cd4a536",
   "metadata": {},
   "outputs": [],
   "source": [
    "x1 = np.array([958, 38, 1])\n",
    "y1 = np.array([933, 33, 1])\n",
    "\n",
    "x2 = np.array([1117, 111, 1])\n",
    "y2 = np.array([1027, 132, 1])\n",
    "\n",
    "x3 = np.array([874, 285, 1])\n",
    "y3 = np.array([692, 223, 1])\n",
    "\n",
    "x4 = np.array([707, 218, 1])\n",
    "y4 = np.array([595, 123, 1])\n",
    "\n",
    "x6 = np.array([1094, 536, 1])\n",
    "y6 = np.array([980, 535, 1])\n",
    "\n",
    "x7 = np.array([862, 729, 1])\n",
    "y7 = np.array([652, 638, 1])\n",
    "\n",
    "x8 = np.array([710, 648, 1])\n",
    "y8 = np.array([567, 532, 1])\n",
    "\n",
    "x9 = np.array([292, 569, 1])\n",
    "y9 = np.array([272, 360, 1])\n",
    "\n",
    "x10 = np.array([770, 969, 1])\n",
    "y10 = np.array([432, 814, 1])\n",
    "\n",
    "x11 = np.array([770, 1465, 1])\n",
    "y11 = np.array([414, 1284, 1])\n",
    "\n",
    "x12 = np.array([317, 1057, 1])\n",
    "y12 = np.array([258, 818, 1])\n",
    "\n",
    "y13 = np.array([1077, 269, 1])\n",
    "\n",
    "x14 = np.array([1487, 598, 1])\n",
    "y14 = np.array([1303, 700, 1])\n",
    "\n",
    "x15 = np.array([1462, 1079, 1])\n",
    "y15 = np.array([1257, 1165, 1])"
   ]
  },
  {
   "cell_type": "code",
   "execution_count": 17,
   "id": "7a93039c",
   "metadata": {},
   "outputs": [],
   "source": [
    "x5 = invisible_point((x4, x8), (x6, x2), (x1, x4), (x3, x2), x1, x8)\n",
    "y5 = invisible_point((y4, y8), (y6, y2), (y1, y4), (y3, y2), y1, y8)\n",
    "\n",
    "x13 = invisible_point((x9, x10), (x11, x12), (x11, x15), (x10, x14), x14, x9)\n",
    "\n",
    "x16 = invisible_point((x10, x14), (x11, x15), (x9, x10), (x11, x12), x12, x15)\n",
    "y16 = invisible_point((y10, y14), (y11, y15), (y9, y10), (y11, y12), y12, y15)"
   ]
  },
  {
   "cell_type": "code",
   "execution_count": 18,
   "id": "7357594b",
   "metadata": {},
   "outputs": [],
   "source": [
    "image1 = [x1, x2, x3, x4, x5, x6, x7, x8, x9, x10, x11, x12, x13, x14, x15, x16]\n",
    "image2 = [y1, y2, y3, y4, y5, y6, y7, y8, y9, y10, y11, y12, y13, y14, y15, y16]"
   ]
  },
  {
   "cell_type": "code",
   "execution_count": 19,
   "id": "483be1ff",
   "metadata": {},
   "outputs": [],
   "source": [
    "def coords(L, R):\n",
    "    U, D, V = np.linalg.svd(equations(L, R))\n",
    "    P = V[-1]\n",
    "    P = P / P[3]\n",
    "    return P[:-1]"
   ]
  },
  {
   "cell_type": "code",
   "execution_count": 20,
   "id": "4a839ea0",
   "metadata": {
    "scrolled": true
   },
   "outputs": [],
   "source": [
    "reconstructed = []\n",
    "for i in range(len(image1)):\n",
    "    reconstructed.append(coords(image1[i], image2[i]))"
   ]
  },
  {
   "cell_type": "code",
   "execution_count": 21,
   "id": "e773fa53",
   "metadata": {
    "scrolled": false
   },
   "outputs": [
    {
     "data": {
      "text/plain": [
       "[array([491.84353036,   1.59313908,   0.50901647]),\n",
       " array([5.04614316e+02, 2.83555175e+01, 4.47171241e-01]),\n",
       " array([462.90170064, 132.73681428,   0.52557536]),\n",
       " array([451.53824135, 124.86509964,   0.63476922]),\n",
       " array([383.89190414, 128.75144682,   0.3869947 ]),\n",
       " array([4.02597956e+02, 1.34081479e+02, 3.52730610e-01]),\n",
       " array([341.96774372, 238.66413756,   0.38548329]),\n",
       " array([318.68122559, 246.47859012,   0.43737882]),\n",
       " array([204.98231907, 390.5749795 ,   0.69865921]),\n",
       " array([299.38198471, 356.35677875,   0.38590733]),\n",
       " array([2.18131111e+02, 3.92907417e+02, 2.81440333e-01]),\n",
       " array([1.33994812e+02, 4.34968096e+02, 4.20089046e-01]),\n",
       " array([4.03656240e+02, 4.66525599e+01, 3.90891784e-01]),\n",
       " array([4.58570726e+02, 1.19093832e+02, 2.96527638e-01]),\n",
       " array([3.86631275e+02, 1.84150621e+02, 2.46041404e-01]),\n",
       " array([3.35122954e+02, 1.40205833e+02, 3.05634378e-01])]"
      ]
     },
     "execution_count": 21,
     "metadata": {},
     "output_type": "execute_result"
    }
   ],
   "source": [
    "reconstructed"
   ]
  },
  {
   "cell_type": "code",
   "execution_count": 22,
   "id": "862e0fa1",
   "metadata": {},
   "outputs": [],
   "source": [
    "tmp = np.eye(3)\n",
    "tmp[2][2] = 400\n",
    "\n",
    "reconstructed400 = np.zeros((16, 3))\n",
    "for i in range(len(reconstructed)):\n",
    "    reconstructed400[i] = tmp.dot(reconstructed[i])"
   ]
  },
  {
   "cell_type": "code",
   "execution_count": 23,
   "id": "9e16a0e1",
   "metadata": {},
   "outputs": [],
   "source": [
    "small_edges = [\n",
    "    (1, 2), (2, 3), (3, 4), (4, 1), (5, 6), (6, 7), (7, 8), (8, 5),\n",
    "    (1, 5), (2, 6), (3, 7), (4, 8)\n",
    "]\n",
    "\n",
    "big_edges = [\n",
    "    (9, 10), (10, 11), (11, 12), (12, 9), (13, 14), (14, 15), (15, 16),\n",
    "    (16, 13), (9, 13), (10, 14), (11, 15), (12, 16)\n",
    "]"
   ]
  },
  {
   "cell_type": "code",
   "execution_count": 24,
   "id": "b36dd1a3",
   "metadata": {},
   "outputs": [
    {
     "data": {
      "image/png": "[encoded data removed]",
      "text/plain": [
       "<Figure size 640x480 with 1 Axes>"
      ]
     },
     "metadata": {},
     "output_type": "display_data"
    }
   ],
   "source": [
    "fig = plt.figure()\n",
    "ax = plt.axes(projection='3d')\n",
    "ax.view_init(14, 32)\n",
    "\n",
    "for (i, j) in small_edges:\n",
    "    ax.plot(\n",
    "        [reconstructed400[i - 1][0], reconstructed400[j - 1][0]],\n",
    "        [reconstructed400[i - 1][1], reconstructed400[j - 1][1]],\n",
    "        [reconstructed400[i - 1][2], reconstructed400[j - 1][2]],\n",
    "        color= 'green'\n",
    "    )\n",
    "\n",
    "for (i, j) in big_edges:\n",
    "    ax.plot(\n",
    "        [reconstructed400[i - 1][0], reconstructed400[j - 1][0]],\n",
    "        [reconstructed400[i - 1][1], reconstructed400[j - 1][1]],\n",
    "        [reconstructed400[i - 1][2], reconstructed400[j - 1][2]],\n",
    "        color= 'magenta'\n",
    "    )\n",
    "    \n",
    "ax.set_xlabel('$X$')\n",
    "ax.set_ylabel('$Y$')\n",
    "ax.set_zlabel('$Z$')\n",
    "plt.title('3D reconstruction of given input points')\n",
    "plt.show()"
   ]
  },
  {
   "cell_type": "code",
   "execution_count": null,
   "id": "745b99b3",
   "metadata": {},
   "outputs": [],
   "source": []
  }
 ],
 "metadata": {
  "kernelspec": {
   "display_name": "Python 3 (ipykernel)",
   "language": "python",
   "name": "python3"
  },
  "language_info": {
   "codemirror_mode": {
    "name": "ipython",
    "version": 3
   },
   "file_extension": ".py",
   "mimetype": "text/x-python",
   "name": "python",
   "nbconvert_exporter": "python",
   "pygments_lexer": "ipython3",
   "version": "3.10.6"
  }
 },
 "nbformat": 4,
 "nbformat_minor": 5
}
